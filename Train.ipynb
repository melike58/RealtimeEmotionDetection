{
  "nbformat": 4,
  "nbformat_minor": 0,
  "metadata": {
    "colab": {
      "name": "Train.ipynb",
      "provenance": [],
      "gpuType": "T4"
    },
    "kernelspec": {
      "name": "python3",
      "display_name": "Python 3"
    },
    "language_info": {
      "name": "python"
    },
    "accelerator": "GPU"
  },
  "cells": [
    {
      "cell_type": "code",
      "execution_count": null,
      "metadata": {
        "id": "5a6EFcb9_MPL"
      },
      "outputs": [],
      "source": [
        "!unzip /content/drive/MyDrive/fer2013-20211101T153413Z-001.zip"
      ]
    },
    {
      "cell_type": "code",
      "source": [
        "from __future__ import print_function\n",
        "import tensorflow.keras\n",
        "from tensorflow.keras.preprocessing.image import ImageDataGenerator\n",
        "from tensorflow.keras.models import Sequential\n",
        "from tensorflow.keras.layers import Dense,Dropout,Activation,Flatten,BatchNormalization\n",
        "from tensorflow.keras.layers import Conv2D,MaxPooling2D\n",
        "import tensorflow as tf\n",
        "import os"
      ],
      "metadata": {
        "id": "nQweDnEp_kvA"
      },
      "execution_count": null,
      "outputs": []
    },
    {
      "cell_type": "code",
      "source": [
        "from tensorflow.keras.optimizers import RMSprop\n",
        "from tensorflow.keras.callbacks import ModelCheckpoint, EarlyStopping, ReduceLROnPlateau"
      ],
      "metadata": {
        "id": "Hj5svIX2CGfP"
      },
      "execution_count": null,
      "outputs": []
    },
    {
      "cell_type": "code",
      "source": [
        "import PIL"
      ],
      "metadata": {
        "id": "vpAeKQ7zCJkJ"
      },
      "execution_count": null,
      "outputs": []
    },
    {
      "cell_type": "code",
      "source": [
        "import sys\n",
        "from PIL import Image\n",
        "sys.modules['Image'] = Image"
      ],
      "metadata": {
        "id": "u92AhbpcCRtP"
      },
      "execution_count": null,
      "outputs": []
    },
    {
      "cell_type": "code",
      "source": [
        "num_classes=6\n",
        "img_rows,img_cols=48,48\n",
        "batch_size=64"
      ],
      "metadata": {
        "id": "TRKw0i3Q_w7X"
      },
      "execution_count": null,
      "outputs": []
    },
    {
      "cell_type": "code",
      "source": [
        "train_data_dir='fer2013/train'\n",
        "validation_data_dir='fer2013/validation'"
      ],
      "metadata": {
        "id": "TTyhkHpw_0B-"
      },
      "execution_count": null,
      "outputs": []
    },
    {
      "cell_type": "code",
      "source": [
        "train_datagen = ImageDataGenerator(\n",
        "    rescale=1./255,\n",
        "    rotation_range=30,\n",
        "    shear_range=0.3,\n",
        "    zoom_range=0.3,\n",
        "    width_shift_range=0.4,\n",
        "    height_shift_range=0.4,\n",
        "    horizontal_flip=True,\n",
        "    fill_mode='nearest')\n",
        "\n",
        "validation_datagen = ImageDataGenerator(rescale=1./255)"
      ],
      "metadata": {
        "id": "t9CI-c3e_2xT"
      },
      "execution_count": null,
      "outputs": []
    },
    {
      "cell_type": "code",
      "source": [
        "train_generator = train_datagen.flow_from_directory(\n",
        "                        train_data_dir,\n",
        "                        color_mode='grayscale',\n",
        "                        target_size=(img_rows,img_cols),\n",
        "                        batch_size=batch_size,\n",
        "                        class_mode='categorical',\n",
        "                        shuffle=True)\n",
        "\n",
        "validation_generator = validation_datagen.flow_from_directory(\n",
        "                                validation_data_dir,\n",
        "                                color_mode='grayscale',\n",
        "                                target_size=(img_rows,img_cols),\n",
        "                                batch_size=batch_size,\n",
        "                                class_mode='categorical',\n",
        "                                shuffle=True)"
      ],
      "metadata": {
        "colab": {
          "base_uri": "https://localhost:8080/"
        },
        "id": "rxPOBUn-_5b7",
        "outputId": "6945a987-fa34-40c2-b60a-23aea42f1656"
      },
      "execution_count": null,
      "outputs": [
        {
          "output_type": "stream",
          "name": "stdout",
          "text": [
            "Found 28353 images belonging to 6 classes.\n",
            "Found 3534 images belonging to 6 classes.\n"
          ]
        }
      ]
    },
    {
      "cell_type": "code",
      "source": [
        "model = Sequential([\n",
        "              Conv2D(32,(3,3),padding='same',kernel_initializer=tf.keras.initializers.GlorotNormal(seed=None),\n",
        "              input_shape=(img_rows,img_cols,1)),\n",
        "              Activation('elu'),\n",
        "              BatchNormalization(),\n",
        "              Conv2D(32,(3,3),padding='same',kernel_initializer=tf.keras.initializers.GlorotNormal(seed=None),\n",
        "                     input_shape=(img_rows,img_cols,1)),\n",
        "              Activation('elu'),\n",
        "              BatchNormalization(),\n",
        "              MaxPooling2D(pool_size=(2,2)),\n",
        "              Dropout(0.2),\n",
        "\n",
        "\n",
        "\n",
        "            Conv2D(64,(3,3),padding='same',kernel_initializer=tf.keras.initializers.GlorotNormal(seed=None)),\n",
        "            Activation('elu'),\n",
        "            BatchNormalization(),\n",
        "            Conv2D(64,(3,3),padding='same',kernel_initializer=tf.keras.initializers.GlorotNormal(seed=None)),\n",
        "            Activation('elu'),\n",
        "            BatchNormalization(),\n",
        "            MaxPooling2D(pool_size=(2,2)),\n",
        "            Dropout(0.2),\n",
        "\n",
        "\n",
        "          Conv2D(128,(3,3),padding='same',kernel_initializer=tf.keras.initializers.GlorotNormal(seed=None)),\n",
        "          Activation('elu'),\n",
        "          BatchNormalization(),\n",
        "          Conv2D(128,(3,3),padding='same',kernel_initializer=tf.keras.initializers.GlorotNormal(seed=None)),\n",
        "          Activation('elu'),\n",
        "          BatchNormalization(),\n",
        "          MaxPooling2D(pool_size=(2,2)),\n",
        "          Dropout(0.2),\n",
        "\n",
        "\n",
        "\n",
        "        Conv2D(256,(3,3),padding='same',kernel_initializer=tf.keras.initializers.GlorotNormal(seed=None)),\n",
        "        Activation('elu'),\n",
        "        BatchNormalization(),\n",
        "        Conv2D(256,(3,3),padding='same',kernel_initializer=tf.keras.initializers.GlorotNormal(seed=None)),\n",
        "        Activation('elu'),\n",
        "        BatchNormalization(),\n",
        "        MaxPooling2D(pool_size=(2,2)),\n",
        "        Dropout(0.2),\n",
        "\n",
        "\n",
        "\n",
        "        Flatten(),\n",
        "        Dense(64,kernel_initializer=tf.keras.initializers.GlorotNormal(seed=None)),\n",
        "        Activation('elu'),\n",
        "        BatchNormalization(),\n",
        "        Dropout(0.5),\n",
        "\n",
        "\n",
        "\n",
        "        Dense(64,kernel_initializer=tf.keras.initializers.GlorotNormal(seed=None)),\n",
        "        Activation('elu'),\n",
        "        BatchNormalization(),\n",
        "        Dropout(0.5),\n",
        "\n",
        "\n",
        "        Dense(num_classes,kernel_initializer=tf.keras.initializers.GlorotNormal(seed=None)),\n",
        "        Activation('softmax')\n",
        "])"
      ],
      "metadata": {
        "id": "BMDK_8Iz_6kN"
      },
      "execution_count": null,
      "outputs": []
    },
    {
      "cell_type": "code",
      "source": [
        "checkpoint = ModelCheckpoint('EmotionDetectionModel.h5',\n",
        "                             monitor='val_loss',\n",
        "                             mode='min',\n",
        "                             save_best_only=True,\n",
        "                             verbose=1)\n",
        "\n",
        "earlystop = EarlyStopping(monitor='val_loss',\n",
        "                          min_delta=0,\n",
        "                          patience=3,\n",
        "                          verbose=1,\n",
        "                          restore_best_weights=True\n",
        "                          )\n",
        "\n",
        "reduce_lr = ReduceLROnPlateau(monitor='val_loss',\n",
        "                              factor=0.2,\n",
        "                              patience=3,\n",
        "                              verbose=1,\n",
        "                              min_delta=0.0001)\n",
        "\n",
        "callbacks = [checkpoint,reduce_lr]"
      ],
      "metadata": {
        "id": "rJrnHYf6CMAp"
      },
      "execution_count": null,
      "outputs": []
    },
    {
      "cell_type": "code",
      "source": [
        "model.compile(loss='categorical_crossentropy',\n",
        "              optimizer = RMSprop(lr=0.001),\n",
        "              metrics=['accuracy'])\n",
        "\n",
        "nb_train_samples = 24176\n",
        "nb_validation_samples = 3006\n",
        "epochs=50"
      ],
      "metadata": {
        "colab": {
          "base_uri": "https://localhost:8080/"
        },
        "id": "cjjtEg7lCWr8",
        "outputId": "299cfe9b-5537-4c87-bc42-5e9456003615"
      },
      "execution_count": null,
      "outputs": [
        {
          "output_type": "stream",
          "name": "stderr",
          "text": [
            "/usr/local/lib/python3.7/dist-packages/keras/optimizer_v2/rmsprop.py:130: UserWarning: The `lr` argument is deprecated, use `learning_rate` instead.\n",
            "  super(RMSprop, self).__init__(name, **kwargs)\n"
          ]
        }
      ]
    },
    {
      "cell_type": "code",
      "source": [
        "history=model.fit_generator(\n",
        "                train_generator,\n",
        "                steps_per_epoch=nb_train_samples//batch_size,\n",
        "                epochs=epochs,\n",
        "                callbacks=callbacks,\n",
        "                validation_data=validation_generator,\n",
        "                validation_steps=nb_validation_samples//batch_size)"
      ],
      "metadata": {
        "colab": {
          "base_uri": "https://localhost:8080/"
        },
        "id": "zmVYjS4VCZBe",
        "outputId": "37c2aa88-a024-4969-cddf-17256159cf86"
      },
      "execution_count": null,
      "outputs": [
        {
          "output_type": "stream",
          "name": "stderr",
          "text": [
            "/usr/local/lib/python3.7/dist-packages/ipykernel_launcher.py:7: UserWarning: `Model.fit_generator` is deprecated and will be removed in a future version. Please use `Model.fit`, which supports generators.\n",
            "  import sys\n"
          ]
        },
        {
          "output_type": "stream",
          "name": "stdout",
          "text": [
            "Epoch 1/50\n",
            "377/377 [==============================] - ETA: 0s - loss: 2.1379 - accuracy: 0.1899\n",
            "Epoch 00001: val_loss improved from inf to 1.83085, saving model to EmotionDetectionModel.h5\n",
            "377/377 [==============================] - 39s 89ms/step - loss: 2.1379 - accuracy: 0.1899 - val_loss: 1.8309 - val_accuracy: 0.2310 - lr: 0.0010\n",
            "Epoch 2/50\n",
            "377/377 [==============================] - ETA: 0s - loss: 1.8099 - accuracy: 0.2234\n",
            "Epoch 00002: val_loss improved from 1.83085 to 1.75750, saving model to EmotionDetectionModel.h5\n",
            "377/377 [==============================] - 33s 88ms/step - loss: 1.8099 - accuracy: 0.2234 - val_loss: 1.7575 - val_accuracy: 0.2157 - lr: 0.0010\n",
            "Epoch 3/50\n",
            "377/377 [==============================] - ETA: 0s - loss: 1.7509 - accuracy: 0.2519\n",
            "Epoch 00003: val_loss improved from 1.75750 to 1.72528, saving model to EmotionDetectionModel.h5\n",
            "377/377 [==============================] - 35s 93ms/step - loss: 1.7509 - accuracy: 0.2519 - val_loss: 1.7253 - val_accuracy: 0.2595 - lr: 0.0010\n",
            "Epoch 4/50\n",
            "377/377 [==============================] - ETA: 0s - loss: 1.7285 - accuracy: 0.2624\n",
            "Epoch 00004: val_loss did not improve from 1.72528\n",
            "377/377 [==============================] - 35s 92ms/step - loss: 1.7285 - accuracy: 0.2624 - val_loss: 1.8269 - val_accuracy: 0.2235 - lr: 0.0010\n",
            "Epoch 5/50\n",
            "377/377 [==============================] - ETA: 0s - loss: 1.6951 - accuracy: 0.2862\n",
            "Epoch 00005: val_loss improved from 1.72528 to 1.66666, saving model to EmotionDetectionModel.h5\n",
            "377/377 [==============================] - 35s 93ms/step - loss: 1.6951 - accuracy: 0.2862 - val_loss: 1.6667 - val_accuracy: 0.2931 - lr: 0.0010\n",
            "Epoch 6/50\n",
            "377/377 [==============================] - ETA: 0s - loss: 1.6699 - accuracy: 0.3008\n",
            "Epoch 00006: val_loss did not improve from 1.66666\n",
            "377/377 [==============================] - 35s 93ms/step - loss: 1.6699 - accuracy: 0.3008 - val_loss: 1.6975 - val_accuracy: 0.3125 - lr: 0.0010\n",
            "Epoch 7/50\n",
            "377/377 [==============================] - ETA: 0s - loss: 1.6266 - accuracy: 0.3226\n",
            "Epoch 00007: val_loss improved from 1.66666 to 1.61995, saving model to EmotionDetectionModel.h5\n",
            "377/377 [==============================] - 35s 92ms/step - loss: 1.6266 - accuracy: 0.3226 - val_loss: 1.6199 - val_accuracy: 0.3088 - lr: 0.0010\n",
            "Epoch 8/50\n",
            "377/377 [==============================] - ETA: 0s - loss: 1.5866 - accuracy: 0.3441\n",
            "Epoch 00008: val_loss improved from 1.61995 to 1.52207, saving model to EmotionDetectionModel.h5\n",
            "377/377 [==============================] - 34s 91ms/step - loss: 1.5866 - accuracy: 0.3441 - val_loss: 1.5221 - val_accuracy: 0.3981 - lr: 0.0010\n",
            "Epoch 9/50\n",
            "377/377 [==============================] - ETA: 0s - loss: 1.5396 - accuracy: 0.3734\n",
            "Epoch 00009: val_loss improved from 1.52207 to 1.48726, saving model to EmotionDetectionModel.h5\n",
            "377/377 [==============================] - 34s 91ms/step - loss: 1.5396 - accuracy: 0.3734 - val_loss: 1.4873 - val_accuracy: 0.4103 - lr: 0.0010\n",
            "Epoch 10/50\n",
            "377/377 [==============================] - ETA: 0s - loss: 1.4941 - accuracy: 0.3988\n",
            "Epoch 00010: val_loss did not improve from 1.48726\n",
            "377/377 [==============================] - 34s 91ms/step - loss: 1.4941 - accuracy: 0.3988 - val_loss: 1.5365 - val_accuracy: 0.4049 - lr: 0.0010\n",
            "Epoch 11/50\n",
            "377/377 [==============================] - ETA: 0s - loss: 1.4603 - accuracy: 0.4189\n",
            "Epoch 00011: val_loss improved from 1.48726 to 1.47496, saving model to EmotionDetectionModel.h5\n",
            "377/377 [==============================] - 34s 91ms/step - loss: 1.4603 - accuracy: 0.4189 - val_loss: 1.4750 - val_accuracy: 0.4351 - lr: 0.0010\n",
            "Epoch 12/50\n",
            "377/377 [==============================] - ETA: 0s - loss: 1.4218 - accuracy: 0.4338\n",
            "Epoch 00012: val_loss improved from 1.47496 to 1.46875, saving model to EmotionDetectionModel.h5\n",
            "377/377 [==============================] - 34s 90ms/step - loss: 1.4218 - accuracy: 0.4338 - val_loss: 1.4687 - val_accuracy: 0.4450 - lr: 0.0010\n",
            "Epoch 13/50\n",
            "377/377 [==============================] - ETA: 0s - loss: 1.4028 - accuracy: 0.4424\n",
            "Epoch 00013: val_loss improved from 1.46875 to 1.45717, saving model to EmotionDetectionModel.h5\n",
            "377/377 [==============================] - 34s 91ms/step - loss: 1.4028 - accuracy: 0.4424 - val_loss: 1.4572 - val_accuracy: 0.4650 - lr: 0.0010\n",
            "Epoch 14/50\n",
            "377/377 [==============================] - ETA: 0s - loss: 1.3817 - accuracy: 0.4546\n",
            "Epoch 00014: val_loss did not improve from 1.45717\n",
            "377/377 [==============================] - 35s 92ms/step - loss: 1.3817 - accuracy: 0.4546 - val_loss: 1.4829 - val_accuracy: 0.4504 - lr: 0.0010\n",
            "Epoch 15/50\n",
            "377/377 [==============================] - ETA: 0s - loss: 1.3683 - accuracy: 0.4610\n",
            "Epoch 00015: val_loss improved from 1.45717 to 1.44475, saving model to EmotionDetectionModel.h5\n",
            "377/377 [==============================] - 35s 93ms/step - loss: 1.3683 - accuracy: 0.4610 - val_loss: 1.4448 - val_accuracy: 0.4518 - lr: 0.0010\n",
            "Epoch 16/50\n",
            "377/377 [==============================] - ETA: 0s - loss: 1.3505 - accuracy: 0.4680\n",
            "Epoch 00016: val_loss did not improve from 1.44475\n",
            "377/377 [==============================] - 35s 92ms/step - loss: 1.3505 - accuracy: 0.4680 - val_loss: 1.4531 - val_accuracy: 0.4484 - lr: 0.0010\n",
            "Epoch 17/50\n",
            "377/377 [==============================] - ETA: 0s - loss: 1.3424 - accuracy: 0.4743\n",
            "Epoch 00017: val_loss did not improve from 1.44475\n",
            "377/377 [==============================] - 35s 92ms/step - loss: 1.3424 - accuracy: 0.4743 - val_loss: 1.4698 - val_accuracy: 0.4708 - lr: 0.0010\n",
            "Epoch 18/50\n",
            "377/377 [==============================] - ETA: 0s - loss: 1.3275 - accuracy: 0.4809\n",
            "Epoch 00018: val_loss did not improve from 1.44475\n",
            "\n",
            "Epoch 00018: ReduceLROnPlateau reducing learning rate to 0.00020000000949949026.\n",
            "377/377 [==============================] - 34s 91ms/step - loss: 1.3275 - accuracy: 0.4809 - val_loss: 1.6127 - val_accuracy: 0.4334 - lr: 0.0010\n",
            "Epoch 19/50\n",
            "377/377 [==============================] - ETA: 0s - loss: 1.3034 - accuracy: 0.4906\n",
            "Epoch 00019: val_loss improved from 1.44475 to 1.42598, saving model to EmotionDetectionModel.h5\n",
            "377/377 [==============================] - 34s 91ms/step - loss: 1.3034 - accuracy: 0.4906 - val_loss: 1.4260 - val_accuracy: 0.4864 - lr: 2.0000e-04\n",
            "Epoch 20/50\n",
            "377/377 [==============================] - ETA: 0s - loss: 1.2831 - accuracy: 0.4962\n",
            "Epoch 00020: val_loss did not improve from 1.42598\n",
            "377/377 [==============================] - 34s 91ms/step - loss: 1.2831 - accuracy: 0.4962 - val_loss: 1.4316 - val_accuracy: 0.4939 - lr: 2.0000e-04\n",
            "Epoch 21/50\n",
            "377/377 [==============================] - ETA: 0s - loss: 1.2714 - accuracy: 0.4996\n",
            "Epoch 00021: val_loss improved from 1.42598 to 1.42304, saving model to EmotionDetectionModel.h5\n",
            "377/377 [==============================] - 34s 90ms/step - loss: 1.2714 - accuracy: 0.4996 - val_loss: 1.4230 - val_accuracy: 0.4915 - lr: 2.0000e-04\n",
            "Epoch 22/50\n",
            "377/377 [==============================] - ETA: 0s - loss: 1.2721 - accuracy: 0.5045\n",
            "Epoch 00022: val_loss did not improve from 1.42304\n",
            "377/377 [==============================] - 34s 91ms/step - loss: 1.2721 - accuracy: 0.5045 - val_loss: 1.4396 - val_accuracy: 0.4935 - lr: 2.0000e-04\n",
            "Epoch 23/50\n",
            "377/377 [==============================] - ETA: 0s - loss: 1.2652 - accuracy: 0.5087\n",
            "Epoch 00023: val_loss did not improve from 1.42304\n",
            "377/377 [==============================] - 34s 91ms/step - loss: 1.2652 - accuracy: 0.5087 - val_loss: 1.4497 - val_accuracy: 0.5051 - lr: 2.0000e-04\n",
            "Epoch 24/50\n",
            "377/377 [==============================] - ETA: 0s - loss: 1.2663 - accuracy: 0.5073\n",
            "Epoch 00024: val_loss did not improve from 1.42304\n",
            "\n",
            "Epoch 00024: ReduceLROnPlateau reducing learning rate to 4.0000001899898055e-05.\n",
            "377/377 [==============================] - 34s 91ms/step - loss: 1.2663 - accuracy: 0.5073 - val_loss: 1.4354 - val_accuracy: 0.5048 - lr: 2.0000e-04\n",
            "Epoch 25/50\n",
            "377/377 [==============================] - ETA: 0s - loss: 1.2585 - accuracy: 0.5054\n",
            "Epoch 00025: val_loss did not improve from 1.42304\n",
            "377/377 [==============================] - 35s 92ms/step - loss: 1.2585 - accuracy: 0.5054 - val_loss: 1.4404 - val_accuracy: 0.5078 - lr: 4.0000e-05\n",
            "Epoch 26/50\n",
            "377/377 [==============================] - ETA: 0s - loss: 1.2509 - accuracy: 0.5096\n",
            "Epoch 00026: val_loss did not improve from 1.42304\n",
            "377/377 [==============================] - 34s 91ms/step - loss: 1.2509 - accuracy: 0.5096 - val_loss: 1.4312 - val_accuracy: 0.5146 - lr: 4.0000e-05\n",
            "Epoch 27/50\n",
            "377/377 [==============================] - ETA: 0s - loss: 1.2513 - accuracy: 0.5119\n",
            "Epoch 00027: val_loss did not improve from 1.42304\n",
            "\n",
            "Epoch 00027: ReduceLROnPlateau reducing learning rate to 8.000000525498762e-06.\n",
            "377/377 [==============================] - 35s 92ms/step - loss: 1.2513 - accuracy: 0.5119 - val_loss: 1.4311 - val_accuracy: 0.5115 - lr: 4.0000e-05\n",
            "Epoch 28/50\n",
            "377/377 [==============================] - ETA: 0s - loss: 1.2500 - accuracy: 0.5100\n",
            "Epoch 00028: val_loss improved from 1.42304 to 1.42191, saving model to EmotionDetectionModel.h5\n",
            "377/377 [==============================] - 35s 91ms/step - loss: 1.2500 - accuracy: 0.5100 - val_loss: 1.4219 - val_accuracy: 0.5126 - lr: 8.0000e-06\n",
            "Epoch 29/50\n",
            "377/377 [==============================] - ETA: 0s - loss: 1.2536 - accuracy: 0.5094\n",
            "Epoch 00029: val_loss improved from 1.42191 to 1.40917, saving model to EmotionDetectionModel.h5\n",
            "377/377 [==============================] - 34s 91ms/step - loss: 1.2536 - accuracy: 0.5094 - val_loss: 1.4092 - val_accuracy: 0.5112 - lr: 8.0000e-06\n",
            "Epoch 30/50\n",
            "377/377 [==============================] - ETA: 0s - loss: 1.2485 - accuracy: 0.5149\n",
            "Epoch 00030: val_loss did not improve from 1.40917\n",
            "377/377 [==============================] - 34s 90ms/step - loss: 1.2485 - accuracy: 0.5149 - val_loss: 1.4469 - val_accuracy: 0.5099 - lr: 8.0000e-06\n",
            "Epoch 31/50\n",
            "377/377 [==============================] - ETA: 0s - loss: 1.2501 - accuracy: 0.5093\n",
            "Epoch 00031: val_loss did not improve from 1.40917\n",
            "377/377 [==============================] - 34s 90ms/step - loss: 1.2501 - accuracy: 0.5093 - val_loss: 1.4429 - val_accuracy: 0.5068 - lr: 8.0000e-06\n",
            "Epoch 32/50\n",
            "377/377 [==============================] - ETA: 0s - loss: 1.2515 - accuracy: 0.5110\n",
            "Epoch 00032: val_loss did not improve from 1.40917\n",
            "\n",
            "Epoch 00032: ReduceLROnPlateau reducing learning rate to 1.6000001778593287e-06.\n",
            "377/377 [==============================] - 34s 91ms/step - loss: 1.2515 - accuracy: 0.5110 - val_loss: 1.4600 - val_accuracy: 0.5061 - lr: 8.0000e-06\n",
            "Epoch 33/50\n",
            "377/377 [==============================] - ETA: 0s - loss: 1.2586 - accuracy: 0.5085\n",
            "Epoch 00033: val_loss did not improve from 1.40917\n",
            "377/377 [==============================] - 35s 92ms/step - loss: 1.2586 - accuracy: 0.5085 - val_loss: 1.4136 - val_accuracy: 0.5136 - lr: 1.6000e-06\n",
            "Epoch 34/50\n",
            "377/377 [==============================] - ETA: 0s - loss: 1.2490 - accuracy: 0.5121\n",
            "Epoch 00034: val_loss did not improve from 1.40917\n",
            "377/377 [==============================] - 35s 92ms/step - loss: 1.2490 - accuracy: 0.5121 - val_loss: 1.4436 - val_accuracy: 0.5003 - lr: 1.6000e-06\n",
            "Epoch 35/50\n",
            "377/377 [==============================] - ETA: 0s - loss: 1.2497 - accuracy: 0.5146\n",
            "Epoch 00035: val_loss did not improve from 1.40917\n",
            "\n",
            "Epoch 00035: ReduceLROnPlateau reducing learning rate to 3.200000264769187e-07.\n",
            "377/377 [==============================] - 34s 91ms/step - loss: 1.2497 - accuracy: 0.5146 - val_loss: 1.4525 - val_accuracy: 0.5031 - lr: 1.6000e-06\n",
            "Epoch 36/50\n",
            "377/377 [==============================] - ETA: 0s - loss: 1.2533 - accuracy: 0.5150\n",
            "Epoch 00036: val_loss did not improve from 1.40917\n",
            "377/377 [==============================] - 35s 92ms/step - loss: 1.2533 - accuracy: 0.5150 - val_loss: 1.4430 - val_accuracy: 0.5065 - lr: 3.2000e-07\n",
            "Epoch 37/50\n",
            "377/377 [==============================] - ETA: 0s - loss: 1.2516 - accuracy: 0.5105\n",
            "Epoch 00037: val_loss did not improve from 1.40917\n",
            "377/377 [==============================] - 35s 92ms/step - loss: 1.2516 - accuracy: 0.5105 - val_loss: 1.4265 - val_accuracy: 0.5017 - lr: 3.2000e-07\n",
            "Epoch 38/50\n",
            "377/377 [==============================] - ETA: 0s - loss: 1.2514 - accuracy: 0.5117\n",
            "Epoch 00038: val_loss did not improve from 1.40917\n",
            "\n",
            "Epoch 00038: ReduceLROnPlateau reducing learning rate to 6.400000529538374e-08.\n",
            "377/377 [==============================] - 35s 92ms/step - loss: 1.2514 - accuracy: 0.5117 - val_loss: 1.4267 - val_accuracy: 0.5109 - lr: 3.2000e-07\n",
            "Epoch 39/50\n",
            "377/377 [==============================] - ETA: 0s - loss: 1.2540 - accuracy: 0.5080\n",
            "Epoch 00039: val_loss did not improve from 1.40917\n",
            "377/377 [==============================] - 34s 91ms/step - loss: 1.2540 - accuracy: 0.5080 - val_loss: 1.4417 - val_accuracy: 0.5071 - lr: 6.4000e-08\n",
            "Epoch 40/50\n",
            "377/377 [==============================] - ETA: 0s - loss: 1.2580 - accuracy: 0.5105\n",
            "Epoch 00040: val_loss did not improve from 1.40917\n",
            "377/377 [==============================] - 35s 92ms/step - loss: 1.2580 - accuracy: 0.5105 - val_loss: 1.4417 - val_accuracy: 0.5088 - lr: 6.4000e-08\n",
            "Epoch 41/50\n",
            "377/377 [==============================] - ETA: 0s - loss: 1.2475 - accuracy: 0.5121\n",
            "Epoch 00041: val_loss did not improve from 1.40917\n",
            "\n",
            "Epoch 00041: ReduceLROnPlateau reducing learning rate to 1.2800001059076749e-08.\n",
            "377/377 [==============================] - 35s 93ms/step - loss: 1.2475 - accuracy: 0.5121 - val_loss: 1.4268 - val_accuracy: 0.5088 - lr: 6.4000e-08\n",
            "Epoch 42/50\n",
            "377/377 [==============================] - ETA: 0s - loss: 1.2524 - accuracy: 0.5117\n",
            "Epoch 00042: val_loss did not improve from 1.40917\n",
            "377/377 [==============================] - 35s 94ms/step - loss: 1.2524 - accuracy: 0.5117 - val_loss: 1.4296 - val_accuracy: 0.5119 - lr: 1.2800e-08\n",
            "Epoch 43/50\n",
            "377/377 [==============================] - ETA: 0s - loss: 1.2474 - accuracy: 0.5111\n",
            "Epoch 00043: val_loss did not improve from 1.40917\n",
            "377/377 [==============================] - 36s 94ms/step - loss: 1.2474 - accuracy: 0.5111 - val_loss: 1.4315 - val_accuracy: 0.5088 - lr: 1.2800e-08\n",
            "Epoch 44/50\n",
            "377/377 [==============================] - ETA: 0s - loss: 1.2509 - accuracy: 0.5109\n",
            "Epoch 00044: val_loss did not improve from 1.40917\n",
            "\n",
            "Epoch 00044: ReduceLROnPlateau reducing learning rate to 2.5600002118153498e-09.\n",
            "377/377 [==============================] - 36s 95ms/step - loss: 1.2509 - accuracy: 0.5109 - val_loss: 1.4507 - val_accuracy: 0.5078 - lr: 1.2800e-08\n",
            "Epoch 45/50\n",
            "377/377 [==============================] - ETA: 0s - loss: 1.2589 - accuracy: 0.5087\n",
            "Epoch 00045: val_loss did not improve from 1.40917\n",
            "377/377 [==============================] - 36s 95ms/step - loss: 1.2589 - accuracy: 0.5087 - val_loss: 1.4462 - val_accuracy: 0.5071 - lr: 2.5600e-09\n",
            "Epoch 46/50\n",
            "377/377 [==============================] - ETA: 0s - loss: 1.2524 - accuracy: 0.5120\n",
            "Epoch 00046: val_loss did not improve from 1.40917\n",
            "377/377 [==============================] - 36s 94ms/step - loss: 1.2524 - accuracy: 0.5120 - val_loss: 1.4440 - val_accuracy: 0.5048 - lr: 2.5600e-09\n",
            "Epoch 47/50\n",
            "377/377 [==============================] - ETA: 0s - loss: 1.2579 - accuracy: 0.5060\n",
            "Epoch 00047: val_loss did not improve from 1.40917\n",
            "\n",
            "Epoch 00047: ReduceLROnPlateau reducing learning rate to 5.1200004236307e-10.\n",
            "377/377 [==============================] - 36s 94ms/step - loss: 1.2579 - accuracy: 0.5060 - val_loss: 1.4260 - val_accuracy: 0.5136 - lr: 2.5600e-09\n",
            "Epoch 48/50\n",
            "377/377 [==============================] - ETA: 0s - loss: 1.2553 - accuracy: 0.5099\n",
            "Epoch 00048: val_loss did not improve from 1.40917\n",
            "377/377 [==============================] - 36s 94ms/step - loss: 1.2553 - accuracy: 0.5099 - val_loss: 1.4424 - val_accuracy: 0.5071 - lr: 5.1200e-10\n",
            "Epoch 49/50\n",
            "377/377 [==============================] - ETA: 0s - loss: 1.2497 - accuracy: 0.5110\n",
            "Epoch 00049: val_loss did not improve from 1.40917\n",
            "377/377 [==============================] - 36s 94ms/step - loss: 1.2497 - accuracy: 0.5110 - val_loss: 1.4555 - val_accuracy: 0.5065 - lr: 5.1200e-10\n",
            "Epoch 50/50\n",
            "377/377 [==============================] - ETA: 0s - loss: 1.2515 - accuracy: 0.5132\n",
            "Epoch 00050: val_loss did not improve from 1.40917\n",
            "\n",
            "Epoch 00050: ReduceLROnPlateau reducing learning rate to 1.0240001069306004e-10.\n",
            "377/377 [==============================] - 35s 94ms/step - loss: 1.2515 - accuracy: 0.5132 - val_loss: 1.4472 - val_accuracy: 0.5054 - lr: 5.1200e-10\n"
          ]
        }
      ]
    }
  ]
}